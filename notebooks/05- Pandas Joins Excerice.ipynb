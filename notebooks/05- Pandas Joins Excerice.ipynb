{
 "cells": [
  {
   "cell_type": "code",
   "execution_count": 1,
   "metadata": {},
   "outputs": [],
   "source": [
    "import pandas as pd"
   ]
  },
  {
   "cell_type": "code",
   "execution_count": 71,
   "metadata": {},
   "outputs": [],
   "source": [
    "emp_df = pd.DataFrame([\n",
    "    ['E1', 'BALWINDER KATOCH', 'FIN'],\n",
    "    ['E2', 'MAMTA KATOCH', 'HR'],\n",
    "    ['E3', 'ARYAN KATOCH', 'ENG'],\n",
    "    ['E4', 'AADI KATOCH', 'ENG'],\n",
    "    ['E5', 'Kunal Kumar', ''],\n",
    "], columns=[\"EMP_ID\",\"NAME\",\"DEPT\"])\n",
    "\n",
    "dept_df = pd.DataFrame([\n",
    "    ['FIN', 'Finance'],\n",
    "    ['ENG', 'Engineering'],\n",
    "    ['HR', 'Human Resource']\n",
    "], columns=[\"DEPT_ID\",\"NAME\"])\n",
    "dept_df.set_index('DEPT_ID', inplace=True)\n",
    "emp_df.set_index('EMP_ID', inplace=True)"
   ]
  },
  {
   "cell_type": "code",
   "execution_count": 72,
   "metadata": {},
   "outputs": [
    {
     "data": {
      "text/html": [
       "<div>\n",
       "<style scoped>\n",
       "    .dataframe tbody tr th:only-of-type {\n",
       "        vertical-align: middle;\n",
       "    }\n",
       "\n",
       "    .dataframe tbody tr th {\n",
       "        vertical-align: top;\n",
       "    }\n",
       "\n",
       "    .dataframe thead th {\n",
       "        text-align: right;\n",
       "    }\n",
       "</style>\n",
       "<table border=\"1\" class=\"dataframe\">\n",
       "  <thead>\n",
       "    <tr style=\"text-align: right;\">\n",
       "      <th></th>\n",
       "      <th>NAME_EMP</th>\n",
       "      <th>DEPT</th>\n",
       "      <th>NAME_DEPT</th>\n",
       "    </tr>\n",
       "  </thead>\n",
       "  <tbody>\n",
       "    <tr>\n",
       "      <td>0</td>\n",
       "      <td>BALWINDER KATOCH</td>\n",
       "      <td>FIN</td>\n",
       "      <td>Finance</td>\n",
       "    </tr>\n",
       "    <tr>\n",
       "      <td>1</td>\n",
       "      <td>MAMTA KATOCH</td>\n",
       "      <td>HR</td>\n",
       "      <td>Human Resource</td>\n",
       "    </tr>\n",
       "    <tr>\n",
       "      <td>2</td>\n",
       "      <td>ARYAN KATOCH</td>\n",
       "      <td>ENG</td>\n",
       "      <td>Engineering</td>\n",
       "    </tr>\n",
       "    <tr>\n",
       "      <td>3</td>\n",
       "      <td>AADI KATOCH</td>\n",
       "      <td>ENG</td>\n",
       "      <td>Engineering</td>\n",
       "    </tr>\n",
       "    <tr>\n",
       "      <td>4</td>\n",
       "      <td>Kunal Kumar</td>\n",
       "      <td></td>\n",
       "      <td>NaN</td>\n",
       "    </tr>\n",
       "  </tbody>\n",
       "</table>\n",
       "</div>"
      ],
      "text/plain": [
       "           NAME_EMP DEPT       NAME_DEPT\n",
       "0  BALWINDER KATOCH  FIN         Finance\n",
       "1      MAMTA KATOCH   HR  Human Resource\n",
       "2      ARYAN KATOCH  ENG     Engineering\n",
       "3       AADI KATOCH  ENG     Engineering\n",
       "4       Kunal Kumar                  NaN"
      ]
     },
     "execution_count": 72,
     "metadata": {},
     "output_type": "execute_result"
    }
   ],
   "source": [
    "pd.merge(emp_df,dept_df,how=\"left\", left_on=\"DEPT\", right_on=\"DEPT_ID\", suffixes=(\"_EMP\",\"_DEPT\"))"
   ]
  },
  {
   "cell_type": "code",
   "execution_count": 78,
   "metadata": {},
   "outputs": [
    {
     "data": {
      "text/plain": [
       "{'': 1, 'ENG': 2, 'FIN': 1, 'HR': 1}"
      ]
     },
     "execution_count": 78,
     "metadata": {},
     "output_type": "execute_result"
    }
   ],
   "source": [
    "dept_group = emp_df.groupby('DEPT')\n",
    "obj = dict(dept_group.size())\n",
    "obj"
   ]
  },
  {
   "cell_type": "code",
   "execution_count": 85,
   "metadata": {},
   "outputs": [
    {
     "data": {
      "text/html": [
       "<div>\n",
       "<style scoped>\n",
       "    .dataframe tbody tr th:only-of-type {\n",
       "        vertical-align: middle;\n",
       "    }\n",
       "\n",
       "    .dataframe tbody tr th {\n",
       "        vertical-align: top;\n",
       "    }\n",
       "\n",
       "    .dataframe thead th {\n",
       "        text-align: right;\n",
       "    }\n",
       "</style>\n",
       "<table border=\"1\" class=\"dataframe\">\n",
       "  <thead>\n",
       "    <tr style=\"text-align: right;\">\n",
       "      <th></th>\n",
       "      <th>NAME_D</th>\n",
       "      <th>NAME_E</th>\n",
       "      <th>DEPT</th>\n",
       "    </tr>\n",
       "    <tr>\n",
       "      <th>EMP_ID</th>\n",
       "      <th></th>\n",
       "      <th></th>\n",
       "      <th></th>\n",
       "    </tr>\n",
       "  </thead>\n",
       "  <tbody>\n",
       "    <tr>\n",
       "      <td>E1</td>\n",
       "      <td>Finance</td>\n",
       "      <td>BALWINDER KATOCH</td>\n",
       "      <td>FIN</td>\n",
       "    </tr>\n",
       "    <tr>\n",
       "      <td>E3</td>\n",
       "      <td>Engineering</td>\n",
       "      <td>ARYAN KATOCH</td>\n",
       "      <td>ENG</td>\n",
       "    </tr>\n",
       "    <tr>\n",
       "      <td>E4</td>\n",
       "      <td>Engineering</td>\n",
       "      <td>AADI KATOCH</td>\n",
       "      <td>ENG</td>\n",
       "    </tr>\n",
       "    <tr>\n",
       "      <td>E2</td>\n",
       "      <td>Human Resource</td>\n",
       "      <td>MAMTA KATOCH</td>\n",
       "      <td>HR</td>\n",
       "    </tr>\n",
       "  </tbody>\n",
       "</table>\n",
       "</div>"
      ],
      "text/plain": [
       "                NAME_D            NAME_E DEPT\n",
       "EMP_ID                                       \n",
       "E1             Finance  BALWINDER KATOCH  FIN\n",
       "E3         Engineering      ARYAN KATOCH  ENG\n",
       "E4         Engineering       AADI KATOCH  ENG\n",
       "E2      Human Resource      MAMTA KATOCH   HR"
      ]
     },
     "execution_count": 85,
     "metadata": {},
     "output_type": "execute_result"
    }
   ],
   "source": [
    "# pd.merge(emp_df,dept_df, left_on=\"DEPT\", right_on=\"DEPT_ID\")\n",
    "pd.merge(dept_df,emp_df, left_index=True, right_on=\"DEPT\", suffixes=[\"_D\",\"_E\"])"
   ]
  },
  {
   "cell_type": "code",
   "execution_count": null,
   "metadata": {},
   "outputs": [],
   "source": []
  }
 ],
 "metadata": {
  "kernelspec": {
   "display_name": "Python 3",
   "language": "python",
   "name": "python3"
  },
  "language_info": {
   "codemirror_mode": {
    "name": "ipython",
    "version": 3
   },
   "file_extension": ".py",
   "mimetype": "text/x-python",
   "name": "python",
   "nbconvert_exporter": "python",
   "pygments_lexer": "ipython3",
   "version": "3.7.4"
  }
 },
 "nbformat": 4,
 "nbformat_minor": 2
}
