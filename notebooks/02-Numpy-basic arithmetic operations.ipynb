{
 "cells": [
  {
   "cell_type": "code",
   "execution_count": 4,
   "metadata": {},
   "outputs": [],
   "source": [
    "import numpy as np"
   ]
  },
  {
   "cell_type": "code",
   "execution_count": 5,
   "metadata": {},
   "outputs": [
    {
     "data": {
      "text/plain": [
       "array([ 1,  2,  3,  4,  5,  6,  7,  8,  9, 10])"
      ]
     },
     "execution_count": 5,
     "metadata": {},
     "output_type": "execute_result"
    }
   ],
   "source": [
    "arr1 = np.arange(1,11)\n",
    "arr1"
   ]
  },
  {
   "cell_type": "code",
   "execution_count": 18,
   "metadata": {},
   "outputs": [
    {
     "name": "stdout",
     "output_type": "stream",
     "text": [
      "Min : 1\n",
      "Max : 10\n",
      "Sum : 55\n",
      "Avg : 5.5\n",
      "Cumulative Sum : [ 1  3  6 10 15 21 28 36 45 55]\n"
     ]
    }
   ],
   "source": [
    "print('Min : {}'.format(arr1.min()))\n",
    "print('Max : {}'.format(arr1.max()))\n",
    "print('Sum : {}'.format(arr1.sum()))\n",
    "print('Avg : {}'.format(arr1.mean()))\n",
    "print('Cumulative Sum : {}'.format(arr1.cumsum()))"
   ]
  },
  {
   "cell_type": "code",
   "execution_count": 9,
   "metadata": {},
   "outputs": [
    {
     "name": "stdout",
     "output_type": "stream",
     "text": [
      "Sorted Array in Descending Order:  [18 11  9  8  6  4  4  3  2  2  1]\n"
     ]
    }
   ],
   "source": [
    "arr = np.array([6, 1, 4, 2, 18, 9, 3, 4, 2, 8, 11])\n",
    " \n",
    "# Get a sorted copy of numpy array (Descending Order)\n",
    "arr = np.sort(arr)[::-1]\n",
    " \n",
    "print('Sorted Array in Descending Order: ', arr)"
   ]
  },
  {
   "cell_type": "code",
   "execution_count": null,
   "metadata": {},
   "outputs": [],
   "source": []
  }
 ],
 "metadata": {
  "kernelspec": {
   "display_name": "Python 3",
   "language": "python",
   "name": "python3"
  },
  "language_info": {
   "codemirror_mode": {
    "name": "ipython",
    "version": 3
   },
   "file_extension": ".py",
   "mimetype": "text/x-python",
   "name": "python",
   "nbconvert_exporter": "python",
   "pygments_lexer": "ipython3",
   "version": "3.7.4"
  }
 },
 "nbformat": 4,
 "nbformat_minor": 2
}
