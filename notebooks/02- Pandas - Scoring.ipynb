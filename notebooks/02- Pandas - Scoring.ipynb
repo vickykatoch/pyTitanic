{
 "cells": [
  {
   "cell_type": "code",
   "execution_count": 5,
   "metadata": {},
   "outputs": [],
   "source": [
    "import pandas as pd\n",
    "from pandas import isnull\n",
    "import numpy as np\n",
    "from os import path"
   ]
  },
  {
   "cell_type": "code",
   "execution_count": 6,
   "metadata": {},
   "outputs": [],
   "source": [
    "def mem_mib(df):\n",
    "    print(\"{0:.2f} Mib\".format(df.memory_usage().sum()/(1024*1024)))\n",
    "\n",
    "def make_categorical(df, col_name):\n",
    "    df.loc[:, col_name] = pd.Categorical(df[col_name])\n",
    "    \n",
    "def recent_nhl_only(df):\n",
    "    return df[(df[\"lgID\"] == \"NHL\") & (df[\"year\"] >= 1980)]"
   ]
  },
  {
   "cell_type": "code",
   "execution_count": 8,
   "metadata": {},
   "outputs": [
    {
     "name": "stdout",
     "output_type": "stream",
     "text": [
      "10.87 Mib\n",
      "(28616, 31)\n",
      "6.99 Mib\n",
      "3.49 Mib\n",
      "(28616, 15)\n",
      "1.96 Mib\n",
      "(28616, 8)\n",
      "1.78 Mib\n"
     ]
    },
    {
     "data": {
      "text/html": [
       "<div>\n",
       "<style scoped>\n",
       "    .dataframe tbody tr th:only-of-type {\n",
       "        vertical-align: middle;\n",
       "    }\n",
       "\n",
       "    .dataframe tbody tr th {\n",
       "        vertical-align: top;\n",
       "    }\n",
       "\n",
       "    .dataframe thead th {\n",
       "        text-align: right;\n",
       "    }\n",
       "</style>\n",
       "<table border=\"1\" class=\"dataframe\">\n",
       "  <thead>\n",
       "    <tr style=\"text-align: right;\">\n",
       "      <th></th>\n",
       "      <th>playerID</th>\n",
       "      <th>year</th>\n",
       "      <th>tmID</th>\n",
       "      <th>GP</th>\n",
       "      <th>G</th>\n",
       "      <th>A</th>\n",
       "      <th>Pts</th>\n",
       "      <th>SOG</th>\n",
       "    </tr>\n",
       "  </thead>\n",
       "  <tbody>\n",
       "    <tr>\n",
       "      <td>0</td>\n",
       "      <td>aaltoan01</td>\n",
       "      <td>1997</td>\n",
       "      <td>ANA</td>\n",
       "      <td>3.0</td>\n",
       "      <td>0.0</td>\n",
       "      <td>0.0</td>\n",
       "      <td>0.0</td>\n",
       "      <td>1.0</td>\n",
       "    </tr>\n",
       "    <tr>\n",
       "      <td>1</td>\n",
       "      <td>aaltoan01</td>\n",
       "      <td>1998</td>\n",
       "      <td>ANA</td>\n",
       "      <td>73.0</td>\n",
       "      <td>3.0</td>\n",
       "      <td>5.0</td>\n",
       "      <td>8.0</td>\n",
       "      <td>61.0</td>\n",
       "    </tr>\n",
       "    <tr>\n",
       "      <td>2</td>\n",
       "      <td>aaltoan01</td>\n",
       "      <td>1999</td>\n",
       "      <td>ANA</td>\n",
       "      <td>63.0</td>\n",
       "      <td>7.0</td>\n",
       "      <td>11.0</td>\n",
       "      <td>18.0</td>\n",
       "      <td>102.0</td>\n",
       "    </tr>\n",
       "    <tr>\n",
       "      <td>3</td>\n",
       "      <td>aaltoan01</td>\n",
       "      <td>2000</td>\n",
       "      <td>ANA</td>\n",
       "      <td>12.0</td>\n",
       "      <td>1.0</td>\n",
       "      <td>1.0</td>\n",
       "      <td>2.0</td>\n",
       "      <td>18.0</td>\n",
       "    </tr>\n",
       "    <tr>\n",
       "      <td>4</td>\n",
       "      <td>abdelju01</td>\n",
       "      <td>2007</td>\n",
       "      <td>DET</td>\n",
       "      <td>2.0</td>\n",
       "      <td>0.0</td>\n",
       "      <td>0.0</td>\n",
       "      <td>0.0</td>\n",
       "      <td>6.0</td>\n",
       "    </tr>\n",
       "  </tbody>\n",
       "</table>\n",
       "</div>"
      ],
      "text/plain": [
       "    playerID  year tmID    GP    G     A   Pts    SOG\n",
       "0  aaltoan01  1997  ANA   3.0  0.0   0.0   0.0    1.0\n",
       "1  aaltoan01  1998  ANA  73.0  3.0   5.0   8.0   61.0\n",
       "2  aaltoan01  1999  ANA  63.0  7.0  11.0  18.0  102.0\n",
       "3  aaltoan01  2000  ANA  12.0  1.0   1.0   2.0   18.0\n",
       "4  abdelju01  2007  DET   2.0  0.0   0.0   0.0    6.0"
      ]
     },
     "execution_count": 8,
     "metadata": {},
     "output_type": "execute_result"
    }
   ],
   "source": [
    "# Process the Scoring.csv file\n",
    "file_name = path.join(path.curdir,'../data/external/advpandas/Scoring.csv')\n",
    "scoring = pd.read_csv(file_name)\n",
    "mem_mib(scoring)\n",
    "scoring.shape\n",
    "scoring = recent_nhl_only(scoring)\n",
    "print(scoring.shape)\n",
    "mem_mib(scoring)\n",
    "scoring = scoring.filter(regex=\"^(?!(Post|PP|SH)).*\")\n",
    "mem_mib(scoring)\n",
    "print(scoring.shape)\n",
    "\n",
    "scoring = scoring.iloc[:, [0,1,3,6,7,8,9,14]]\n",
    "mem_mib(scoring)\n",
    "print(scoring.shape)\n",
    "make_categorical(scoring,\"tmID\")\n",
    "mem_mib(scoring)\n",
    "scoring = scoring.reset_index(drop=True)\n",
    "p_file_name = path.join(path.curdir,'../data/external/advpandas/processed/Scoring.pickle')\n",
    "scoring.to_pickle(p_file_name)\n",
    "scoring.head()"
   ]
  },
  {
   "cell_type": "code",
   "execution_count": null,
   "metadata": {},
   "outputs": [],
   "source": []
  }
 ],
 "metadata": {
  "kernelspec": {
   "display_name": "Python 3",
   "language": "python",
   "name": "python3"
  },
  "language_info": {
   "codemirror_mode": {
    "name": "ipython",
    "version": 3
   },
   "file_extension": ".py",
   "mimetype": "text/x-python",
   "name": "python",
   "nbconvert_exporter": "python",
   "pygments_lexer": "ipython3",
   "version": "3.7.4"
  }
 },
 "nbformat": 4,
 "nbformat_minor": 2
}
