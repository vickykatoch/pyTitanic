{
 "cells": [
  {
   "cell_type": "code",
   "execution_count": 1,
   "metadata": {},
   "outputs": [],
   "source": [
    "import numpy as np"
   ]
  },
  {
   "cell_type": "code",
   "execution_count": 17,
   "metadata": {},
   "outputs": [
    {
     "name": "stdout",
     "output_type": "stream",
     "text": [
      "[1 2 3 4 5 6 7 8 9]\n",
      "[ 3  4  5  6  7  8  9 10 11]\n",
      "[-1  0  1  2  3  4  5  6  7]\n",
      "[ 2  4  6  8 10 12 14 16 18]\n"
     ]
    },
    {
     "data": {
      "text/plain": [
       "array([ 1,  4,  9, 16, 25, 36, 49, 64, 81])"
      ]
     },
     "execution_count": 17,
     "metadata": {},
     "output_type": "execute_result"
    }
   ],
   "source": [
    "arr = np.arange(1,10)\n",
    "print(arr)\n",
    "print(arr+2)\n",
    "print(arr-2)\n",
    "print(arr*2)\n",
    "arr=arr**2\n",
    "\n",
    "arr"
   ]
  },
  {
   "cell_type": "code",
   "execution_count": 35,
   "metadata": {},
   "outputs": [
    {
     "name": "stdout",
     "output_type": "stream",
     "text": [
      "First Four : [ 1  4  9 16]\n",
      "Last Four : [36 49 64 81]\n",
      "Start at 2, exclude last 2 : [ 9 16 25 36 49]\n",
      "Start at 0, pick odd indexes : [ 1  9 25 49 81]\n",
      "Sort descending : [81 64 49 36 25 16  9  4  1]\n"
     ]
    }
   ],
   "source": [
    "print('First Four : {}'.format(arr[:4]))\n",
    "print('Last Four : {}'.format(arr[-4:]))\n",
    "print('Start at 2, exclude last 2 : {}'.format(arr[2:-2]))\n",
    "print('Start at 0, pick odd indexes : {}'.format(arr[0:arr.size:2]))\n",
    "print('Sort descending : {}'.format(arr[::-1]))"
   ]
  },
  {
   "cell_type": "code",
   "execution_count": 42,
   "metadata": {},
   "outputs": [
    {
     "name": "stdout",
     "output_type": "stream",
     "text": [
      "[['Alice' 'Beth' 'Cathy' 'Dorothy']\n",
      " ['65' '78' '90' '81']\n",
      " ['71' '82' '79' '92']]\n"
     ]
    }
   ],
   "source": [
    "arr = np.array([\n",
    "    ['Alice', 'Beth','Cathy', 'Dorothy'],\n",
    "    ['65', '78', '90','81'],\n",
    "    ['71', '82', '79', '92']\n",
    "])\n",
    "print(arr)"
   ]
  },
  {
   "cell_type": "code",
   "execution_count": 51,
   "metadata": {},
   "outputs": [
    {
     "data": {
      "text/plain": [
       "array([['Cathy', 'Dorothy'],\n",
       "       ['90', '81'],\n",
       "       ['79', '92']], dtype='<U7')"
      ]
     },
     "execution_count": 51,
     "metadata": {},
     "output_type": "execute_result"
    }
   ],
   "source": [
    "arr[...,-2:]"
   ]
  }
 ],
 "metadata": {
  "kernelspec": {
   "display_name": "Python 3",
   "language": "python",
   "name": "python3"
  },
  "language_info": {
   "codemirror_mode": {
    "name": "ipython",
    "version": 3
   },
   "file_extension": ".py",
   "mimetype": "text/x-python",
   "name": "python",
   "nbconvert_exporter": "python",
   "pygments_lexer": "ipython3",
   "version": "3.7.4"
  }
 },
 "nbformat": 4,
 "nbformat_minor": 2
}
