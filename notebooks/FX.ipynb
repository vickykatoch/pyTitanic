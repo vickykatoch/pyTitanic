{
 "cells": [
  {
   "cell_type": "code",
   "execution_count": 2,
   "metadata": {},
   "outputs": [],
   "source": [
    "from os import path\n",
    "import numpy as np\n",
    "import pandas as pd"
   ]
  },
  {
   "cell_type": "code",
   "execution_count": 46,
   "metadata": {},
   "outputs": [],
   "source": [
    "file_name = path.join(path.curdir,'../data/external/FX-2019.csv')\n",
    "df = pd.read_csv(file_name,names=[\"Date\", \"Time\", \"Open\", \"High\", \"Low\",\"Close\",\"Volume\"])\n"
   ]
  },
  {
   "cell_type": "code",
   "execution_count": 47,
   "metadata": {},
   "outputs": [
    {
     "data": {
      "text/html": [
       "<div>\n",
       "<style scoped>\n",
       "    .dataframe tbody tr th:only-of-type {\n",
       "        vertical-align: middle;\n",
       "    }\n",
       "\n",
       "    .dataframe tbody tr th {\n",
       "        vertical-align: top;\n",
       "    }\n",
       "\n",
       "    .dataframe thead th {\n",
       "        text-align: right;\n",
       "    }\n",
       "</style>\n",
       "<table border=\"1\" class=\"dataframe\">\n",
       "  <thead>\n",
       "    <tr style=\"text-align: right;\">\n",
       "      <th></th>\n",
       "      <th>DateTime</th>\n",
       "      <th>Open</th>\n",
       "      <th>High</th>\n",
       "      <th>Low</th>\n",
       "      <th>Close</th>\n",
       "      <th>Volume</th>\n",
       "    </tr>\n",
       "  </thead>\n",
       "  <tbody>\n",
       "    <tr>\n",
       "      <td>0</td>\n",
       "      <td>2019-01-01 17:02:00</td>\n",
       "      <td>1.14598</td>\n",
       "      <td>1.14599</td>\n",
       "      <td>1.14598</td>\n",
       "      <td>1.14598</td>\n",
       "      <td>0</td>\n",
       "    </tr>\n",
       "    <tr>\n",
       "      <td>1</td>\n",
       "      <td>2019-01-01 17:03:00</td>\n",
       "      <td>1.14598</td>\n",
       "      <td>1.14607</td>\n",
       "      <td>1.14598</td>\n",
       "      <td>1.14607</td>\n",
       "      <td>0</td>\n",
       "    </tr>\n",
       "    <tr>\n",
       "      <td>2</td>\n",
       "      <td>2019-01-01 17:04:00</td>\n",
       "      <td>1.14607</td>\n",
       "      <td>1.14607</td>\n",
       "      <td>1.14606</td>\n",
       "      <td>1.14606</td>\n",
       "      <td>0</td>\n",
       "    </tr>\n",
       "    <tr>\n",
       "      <td>3</td>\n",
       "      <td>2019-01-01 17:05:00</td>\n",
       "      <td>1.14606</td>\n",
       "      <td>1.14621</td>\n",
       "      <td>1.14606</td>\n",
       "      <td>1.14621</td>\n",
       "      <td>0</td>\n",
       "    </tr>\n",
       "    <tr>\n",
       "      <td>4</td>\n",
       "      <td>2019-01-01 17:06:00</td>\n",
       "      <td>1.14619</td>\n",
       "      <td>1.14666</td>\n",
       "      <td>1.14604</td>\n",
       "      <td>1.14665</td>\n",
       "      <td>0</td>\n",
       "    </tr>\n",
       "  </tbody>\n",
       "</table>\n",
       "</div>"
      ],
      "text/plain": [
       "             DateTime     Open     High      Low    Close  Volume\n",
       "0 2019-01-01 17:02:00  1.14598  1.14599  1.14598  1.14598       0\n",
       "1 2019-01-01 17:03:00  1.14598  1.14607  1.14598  1.14607       0\n",
       "2 2019-01-01 17:04:00  1.14607  1.14607  1.14606  1.14606       0\n",
       "3 2019-01-01 17:05:00  1.14606  1.14621  1.14606  1.14621       0\n",
       "4 2019-01-01 17:06:00  1.14619  1.14666  1.14604  1.14665       0"
      ]
     },
     "execution_count": 47,
     "metadata": {},
     "output_type": "execute_result"
    }
   ],
   "source": [
    "#Merge Date & Time column into single column and convert the data type to datetime\n",
    "df[\"DateTime\"] = pd.to_datetime(df[\"Date\"].str.cat(df[\"Time\"],sep=\" \"))\n",
    "\n",
    "#Delete Date & Time Columns\n",
    "df.pop(\"Date\")\n",
    "df.pop(\"Time\")\n",
    "# Bring DateTime column to the beginning\n",
    "df = df[[\"DateTime\", \"Open\", \"High\", \"Low\",\"Close\",\"Volume\"]]"
   ]
  },
  {
   "cell_type": "code",
   "execution_count": 51,
   "metadata": {},
   "outputs": [
    {
     "name": "stdout",
     "output_type": "stream",
     "text": [
      "Mean : 1.1195358429656672\n",
      "Median : 1.11971\n",
      "StdDev : 0.013502629194323821\n"
     ]
    }
   ],
   "source": [
    "open_prices = df[\"Open\"].values\n",
    "print('Mean : {}'.format(np.mean(open_prices)))\n",
    "print('Median : {}'.format(np.median(open_prices)))\n",
    "print('StdDev : {}'.format(np.std(open_prices)))"
   ]
  },
  {
   "cell_type": "code",
   "execution_count": 56,
   "metadata": {},
   "outputs": [
    {
     "data": {
      "text/plain": [
       "array([1.15695, 1.15692, 1.15691, ..., 1.0881 , 1.08808, 1.08803])"
      ]
     },
     "execution_count": 56,
     "metadata": {},
     "output_type": "execute_result"
    }
   ],
   "source": [
    "np.sort(open_prices)[::-1]"
   ]
  },
  {
   "cell_type": "code",
   "execution_count": 58,
   "metadata": {},
   "outputs": [
    {
     "data": {
      "text/plain": [
       "0.06892000000000009"
      ]
     },
     "execution_count": 58,
     "metadata": {},
     "output_type": "execute_result"
    }
   ],
   "source": [
    "np.max(open_prices)-np.min(open_prices)"
   ]
  },
  {
   "cell_type": "code",
   "execution_count": null,
   "metadata": {},
   "outputs": [],
   "source": []
  }
 ],
 "metadata": {
  "kernelspec": {
   "display_name": "Python 3",
   "language": "python",
   "name": "python3"
  },
  "language_info": {
   "codemirror_mode": {
    "name": "ipython",
    "version": 3
   },
   "file_extension": ".py",
   "mimetype": "text/x-python",
   "name": "python",
   "nbconvert_exporter": "python",
   "pygments_lexer": "ipython3",
   "version": "3.7.4"
  }
 },
 "nbformat": 4,
 "nbformat_minor": 2
}
