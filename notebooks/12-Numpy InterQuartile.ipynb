{
 "cells": [
  {
   "cell_type": "code",
   "execution_count": 95,
   "metadata": {},
   "outputs": [],
   "source": [
    "import numpy as np\n",
    "import math"
   ]
  },
  {
   "cell_type": "code",
   "execution_count": 96,
   "metadata": {},
   "outputs": [],
   "source": [
    "x = np.array([4,4,10,11,15,7,14,12,6,9])"
   ]
  },
  {
   "cell_type": "code",
   "execution_count": 97,
   "metadata": {},
   "outputs": [],
   "source": [
    "def find_iqtile(nums):\n",
    "    sorted = np.sort(nums);\n",
    "    if sorted.size % 2 == 0:\n",
    "        mid_idx = math.trunc(sorted.size/2)\n",
    "        left,right = np.split(sorted,2)\n",
    "        s_mid_idx = math.ceil(left.size/2)\n",
    "        return right[s_mid_idx] - left[s_mid_idx]\n",
    "    else:\n",
    "        mid_idx = math.floor(sorted.size/2)\n",
    "        left,middle,right = np.split(sorted,[mid_idx,mid_idx+1,])\n",
    "        s_mid_idx = math.trunc(left.size/2)\n",
    "        leftValue = np.sum(left[s_mid_idx:s_mid_idx+2])/2\n",
    "        rightValue = np.sum(right[s_mid_idx:s_mid_idx+2])/2\n",
    "        return rightValue-leftValue"
   ]
  },
  {
   "cell_type": "code",
   "execution_count": 99,
   "metadata": {},
   "outputs": [
    {
     "data": {
      "text/plain": [
       "7"
      ]
     },
     "execution_count": 99,
     "metadata": {},
     "output_type": "execute_result"
    }
   ],
   "source": [
    "find_iqtile(x)"
   ]
  },
  {
   "cell_type": "code",
   "execution_count": 100,
   "metadata": {},
   "outputs": [
    {
     "name": "stdout",
     "output_type": "stream",
     "text": [
      "Help on built-in function round in module builtins:\n",
      "\n",
      "round(number, ndigits=None)\n",
      "    Round a number to a given precision in decimal digits.\n",
      "    \n",
      "    The return value is an integer if ndigits is omitted or None.  Otherwise\n",
      "    the return value has the same type as the number.  ndigits may be negative.\n",
      "\n"
     ]
    }
   ],
   "source": [
    "help(round)"
   ]
  }
 ],
 "metadata": {
  "kernelspec": {
   "display_name": "Python 3",
   "language": "python",
   "name": "python3"
  },
  "language_info": {
   "codemirror_mode": {
    "name": "ipython",
    "version": 3
   },
   "file_extension": ".py",
   "mimetype": "text/x-python",
   "name": "python",
   "nbconvert_exporter": "python",
   "pygments_lexer": "ipython3",
   "version": "3.7.4"
  }
 },
 "nbformat": 4,
 "nbformat_minor": 2
}
