{
 "cells": [
  {
   "cell_type": "code",
   "execution_count": 2,
   "metadata": {},
   "outputs": [],
   "source": [
    "import pandas as pd\n",
    "import numpy as np\n",
    "from os import path"
   ]
  },
  {
   "cell_type": "code",
   "execution_count": 40,
   "metadata": {},
   "outputs": [
    {
     "name": "stderr",
     "output_type": "stream",
     "text": [
      "C:\\Users\\vicky\\Anaconda3\\lib\\site-packages\\IPython\\core\\interactiveshell.py:3058: DtypeWarning: Columns (9,13) have mixed types. Specify dtype option on import or set low_memory=False.\n",
      "  interactivity=interactivity, compiler=compiler, result=result)\n"
     ]
    }
   ],
   "source": [
    "file_name = path.join('../../data/required/artwork_data.csv')\n",
    "COLS_TO_USE = [\n",
    "    \"id\",\"artist\",\"title\",\"medium\", 'year', 'acquisitionYear','height', 'width', 'height', 'units'\n",
    "]\n",
    "art_work = pd.read_csv(file_name, index_col=\"id\", usecols=COLS_TO_USE)"
   ]
  },
  {
   "cell_type": "code",
   "execution_count": 71,
   "metadata": {},
   "outputs": [
    {
     "data": {
      "text/plain": [
       "Turner, Joseph Mallord William    39389\n",
       "Jones, George                      1046\n",
       "Moore, Henry, OM, CH                623\n",
       "Daniell, William                    612\n",
       "Beuys, Joseph                       578\n",
       "                                  ...  \n",
       "Troubetzkoy, Paul                     1\n",
       "Harrison, Paul                        1\n",
       "Lieber, Tom                           1\n",
       "Chandler, J.W.                        1\n",
       "Saint-Gaudens, Augustus               1\n",
       "Name: artist, Length: 3336, dtype: int64"
      ]
     },
     "execution_count": 71,
     "metadata": {},
     "output_type": "execute_result"
    }
   ],
   "source": [
    "art_work[\"artist\"].value_counts()"
   ]
  },
  {
   "cell_type": "code",
   "execution_count": 67,
   "metadata": {},
   "outputs": [
    {
     "data": {
      "text/plain": [
       "(69201, 8)"
      ]
     },
     "execution_count": 67,
     "metadata": {},
     "output_type": "execute_result"
    }
   ],
   "source": [
    "art_work.shape"
   ]
  },
  {
   "cell_type": "code",
   "execution_count": 77,
   "metadata": {},
   "outputs": [
    {
     "data": {
      "text/html": [
       "<div>\n",
       "<style scoped>\n",
       "    .dataframe tbody tr th:only-of-type {\n",
       "        vertical-align: middle;\n",
       "    }\n",
       "\n",
       "    .dataframe tbody tr th {\n",
       "        vertical-align: top;\n",
       "    }\n",
       "\n",
       "    .dataframe thead th {\n",
       "        text-align: right;\n",
       "    }\n",
       "</style>\n",
       "<table border=\"1\" class=\"dataframe\">\n",
       "  <thead>\n",
       "    <tr style=\"text-align: right;\">\n",
       "      <th></th>\n",
       "      <th>artist</th>\n",
       "      <th>title</th>\n",
       "      <th>medium</th>\n",
       "      <th>year</th>\n",
       "      <th>acquisitionYear</th>\n",
       "      <th>width</th>\n",
       "      <th>height</th>\n",
       "      <th>units</th>\n",
       "    </tr>\n",
       "    <tr>\n",
       "      <th>id</th>\n",
       "      <th></th>\n",
       "      <th></th>\n",
       "      <th></th>\n",
       "      <th></th>\n",
       "      <th></th>\n",
       "      <th></th>\n",
       "      <th></th>\n",
       "      <th></th>\n",
       "    </tr>\n",
       "  </thead>\n",
       "  <tbody>\n",
       "    <tr>\n",
       "      <td>7249</td>\n",
       "      <td>Jones, George</td>\n",
       "      <td>[title not known]</td>\n",
       "      <td>Ink on paper</td>\n",
       "      <td>NaN</td>\n",
       "      <td>1888.0</td>\n",
       "      <td>NaN</td>\n",
       "      <td>NaN</td>\n",
       "      <td>NaN</td>\n",
       "    </tr>\n",
       "    <tr>\n",
       "      <td>7250</td>\n",
       "      <td>Jones, George</td>\n",
       "      <td>[title not known]</td>\n",
       "      <td>Ink and graphite on paper</td>\n",
       "      <td>NaN</td>\n",
       "      <td>1888.0</td>\n",
       "      <td>NaN</td>\n",
       "      <td>NaN</td>\n",
       "      <td>NaN</td>\n",
       "    </tr>\n",
       "    <tr>\n",
       "      <td>7251</td>\n",
       "      <td>Jones, George</td>\n",
       "      <td>[title not known]</td>\n",
       "      <td>Ink and watercolour on paper</td>\n",
       "      <td>NaN</td>\n",
       "      <td>1888.0</td>\n",
       "      <td>NaN</td>\n",
       "      <td>NaN</td>\n",
       "      <td>NaN</td>\n",
       "    </tr>\n",
       "    <tr>\n",
       "      <td>7252</td>\n",
       "      <td>Jones, George</td>\n",
       "      <td>[title not known]</td>\n",
       "      <td>Ink on paper</td>\n",
       "      <td>NaN</td>\n",
       "      <td>1888.0</td>\n",
       "      <td>NaN</td>\n",
       "      <td>NaN</td>\n",
       "      <td>NaN</td>\n",
       "    </tr>\n",
       "    <tr>\n",
       "      <td>7253</td>\n",
       "      <td>Jones, George</td>\n",
       "      <td>[title not known]</td>\n",
       "      <td>Ink and watercolour on paper</td>\n",
       "      <td>NaN</td>\n",
       "      <td>1888.0</td>\n",
       "      <td>NaN</td>\n",
       "      <td>NaN</td>\n",
       "      <td>NaN</td>\n",
       "    </tr>\n",
       "    <tr>\n",
       "      <td>...</td>\n",
       "      <td>...</td>\n",
       "      <td>...</td>\n",
       "      <td>...</td>\n",
       "      <td>...</td>\n",
       "      <td>...</td>\n",
       "      <td>...</td>\n",
       "      <td>...</td>\n",
       "      <td>...</td>\n",
       "    </tr>\n",
       "    <tr>\n",
       "      <td>7737</td>\n",
       "      <td>Jones, George</td>\n",
       "      <td>Cawnpore, the Passage of the Ganges at Cawnpor...</td>\n",
       "      <td>Oil paint on canvas</td>\n",
       "      <td>1869</td>\n",
       "      <td>1869.0</td>\n",
       "      <td>1092</td>\n",
       "      <td>2083</td>\n",
       "      <td>mm</td>\n",
       "    </tr>\n",
       "    <tr>\n",
       "      <td>7738</td>\n",
       "      <td>Jones, George</td>\n",
       "      <td>Cader Idris</td>\n",
       "      <td>Watercolour and graphite on paper</td>\n",
       "      <td>NaN</td>\n",
       "      <td>1888.0</td>\n",
       "      <td>279</td>\n",
       "      <td>190</td>\n",
       "      <td>mm</td>\n",
       "    </tr>\n",
       "    <tr>\n",
       "      <td>7739</td>\n",
       "      <td>Jones, George</td>\n",
       "      <td>Near Dolgelly</td>\n",
       "      <td>Watercolour on paper</td>\n",
       "      <td>NaN</td>\n",
       "      <td>1888.0</td>\n",
       "      <td>279</td>\n",
       "      <td>190</td>\n",
       "      <td>mm</td>\n",
       "    </tr>\n",
       "    <tr>\n",
       "      <td>7740</td>\n",
       "      <td>Jones, George</td>\n",
       "      <td>The Burning Fiery Furnace, study for N00389</td>\n",
       "      <td>Watercolour on paper</td>\n",
       "      <td>1832</td>\n",
       "      <td>1975.0</td>\n",
       "      <td>546</td>\n",
       "      <td>403</td>\n",
       "      <td>mm</td>\n",
       "    </tr>\n",
       "    <tr>\n",
       "      <td>23100</td>\n",
       "      <td>Jones, George</td>\n",
       "      <td>A Ship</td>\n",
       "      <td>Watercolour, graphite and gouache on paper</td>\n",
       "      <td>NaN</td>\n",
       "      <td>1997.0</td>\n",
       "      <td>126</td>\n",
       "      <td>128</td>\n",
       "      <td>mm</td>\n",
       "    </tr>\n",
       "  </tbody>\n",
       "</table>\n",
       "<p>1046 rows × 8 columns</p>\n",
       "</div>"
      ],
      "text/plain": [
       "              artist                                              title  \\\n",
       "id                                                                        \n",
       "7249   Jones, George                                  [title not known]   \n",
       "7250   Jones, George                                  [title not known]   \n",
       "7251   Jones, George                                  [title not known]   \n",
       "7252   Jones, George                                  [title not known]   \n",
       "7253   Jones, George                                  [title not known]   \n",
       "...              ...                                                ...   \n",
       "7737   Jones, George  Cawnpore, the Passage of the Ganges at Cawnpor...   \n",
       "7738   Jones, George                                        Cader Idris   \n",
       "7739   Jones, George                                      Near Dolgelly   \n",
       "7740   Jones, George        The Burning Fiery Furnace, study for N00389   \n",
       "23100  Jones, George                                             A Ship   \n",
       "\n",
       "                                           medium  year  acquisitionYear  \\\n",
       "id                                                                         \n",
       "7249                                 Ink on paper   NaN           1888.0   \n",
       "7250                    Ink and graphite on paper   NaN           1888.0   \n",
       "7251                 Ink and watercolour on paper   NaN           1888.0   \n",
       "7252                                 Ink on paper   NaN           1888.0   \n",
       "7253                 Ink and watercolour on paper   NaN           1888.0   \n",
       "...                                           ...   ...              ...   \n",
       "7737                          Oil paint on canvas  1869           1869.0   \n",
       "7738            Watercolour and graphite on paper   NaN           1888.0   \n",
       "7739                         Watercolour on paper   NaN           1888.0   \n",
       "7740                         Watercolour on paper  1832           1975.0   \n",
       "23100  Watercolour, graphite and gouache on paper   NaN           1997.0   \n",
       "\n",
       "      width height units  \n",
       "id                        \n",
       "7249    NaN    NaN   NaN  \n",
       "7250    NaN    NaN   NaN  \n",
       "7251    NaN    NaN   NaN  \n",
       "7252    NaN    NaN   NaN  \n",
       "7253    NaN    NaN   NaN  \n",
       "...     ...    ...   ...  \n",
       "7737   1092   2083    mm  \n",
       "7738    279    190    mm  \n",
       "7739    279    190    mm  \n",
       "7740    546    403    mm  \n",
       "23100   126    128    mm  \n",
       "\n",
       "[1046 rows x 8 columns]"
      ]
     },
     "execution_count": 77,
     "metadata": {},
     "output_type": "execute_result"
    }
   ],
   "source": [
    "df = art_work[art_work[\"artist\"]==\"Jones, George\"]\n",
    "df"
   ]
  },
  {
   "cell_type": "code",
   "execution_count": 120,
   "metadata": {},
   "outputs": [
    {
     "data": {
      "text/plain": [
       "3336"
      ]
     },
     "execution_count": 120,
     "metadata": {},
     "output_type": "execute_result"
    }
   ],
   "source": [
    "# art_work[\"artist\"].nunique()\n",
    "pd.unique(art_work[\"artist\"]).size"
   ]
  },
  {
   "cell_type": "code",
   "execution_count": 125,
   "metadata": {},
   "outputs": [
    {
     "name": "stdout",
     "output_type": "stream",
     "text": [
      "400\n",
      "False    69151\n",
      "True        50\n",
      "Name: artist, dtype: int64\n"
     ]
    },
    {
     "data": {
      "text/plain": [
       "50"
      ]
     },
     "execution_count": 125,
     "metadata": {},
     "output_type": "execute_result"
    }
   ],
   "source": [
    "print(art_work[art_work[\"artist\"] == \"Bacon, Francis\"].size)\n",
    "s = art_work[\"artist\"] == \"Bacon, Francis\"\n",
    "print(s.value_counts())\n",
    "a_counts = art_work[\"artist\"].value_counts()\n",
    "a_counts[\"Bacon, Francis\"]"
   ]
  },
  {
   "cell_type": "code",
   "execution_count": 161,
   "metadata": {},
   "outputs": [],
   "source": [
    "art_work[\"width\"] = pd.to_numeric(art_work[\"width\"],errors=\"coerce\")\n",
    "art_work[\"height\"] = pd.to_numeric(art_work[\"height\"],errors=\"coerce\")\n",
    "art_work[\"area\"] = art_work[\"height\"] * art_work[\"width\"]"
   ]
  },
  {
   "cell_type": "code",
   "execution_count": 176,
   "metadata": {},
   "outputs": [
    {
     "data": {
      "text/plain": [
       "artist                               Therrien, Robert\n",
       "title                No Title (Table and Four Chairs)\n",
       "medium             Aluminium, steel, wood and plastic\n",
       "year                                             2003\n",
       "acquisitionYear                                  2008\n",
       "width                                            8920\n",
       "height                                          14850\n",
       "units                                              mm\n",
       "area                                      1.32462e+08\n",
       "Name: 98367, dtype: object"
      ]
     },
     "execution_count": 176,
     "metadata": {},
     "output_type": "execute_result"
    }
   ],
   "source": [
    "art_work.loc[art_work[\"area\"].idxmax(),:]"
   ]
  },
  {
   "cell_type": "code",
   "execution_count": null,
   "metadata": {},
   "outputs": [],
   "source": []
  }
 ],
 "metadata": {
  "kernelspec": {
   "display_name": "Python 3",
   "language": "python",
   "name": "python3"
  },
  "language_info": {
   "codemirror_mode": {
    "name": "ipython",
    "version": 3
   },
   "file_extension": ".py",
   "mimetype": "text/x-python",
   "name": "python",
   "nbconvert_exporter": "python",
   "pygments_lexer": "ipython3",
   "version": "3.7.4"
  }
 },
 "nbformat": 4,
 "nbformat_minor": 2
}
