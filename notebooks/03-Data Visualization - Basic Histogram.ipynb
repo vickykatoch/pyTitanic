{
 "cells": [
  {
   "cell_type": "code",
   "execution_count": 1,
   "metadata": {},
   "outputs": [],
   "source": [
    "import pandas as pd\n",
    "from matplotlib import pyplot as plt\n",
    "from os import path"
   ]
  },
  {
   "cell_type": "code",
   "execution_count": 2,
   "metadata": {},
   "outputs": [],
   "source": [
    "file_name = path.join(path.curdir,'../data/external/countries.csv')\n",
    "df = pd.read_csv(file_name)"
   ]
  },
  {
   "cell_type": "code",
   "execution_count": 6,
   "metadata": {},
   "outputs": [
    {
     "data": {
      "text/plain": [
       "{'Africa', 'Americas', 'Asia', 'Europe', 'Oceania'}"
      ]
     },
     "execution_count": 6,
     "metadata": {},
     "output_type": "execute_result"
    }
   ],
   "source": [
    "set(df.continent)"
   ]
  },
  {
   "cell_type": "code",
   "execution_count": 8,
   "metadata": {},
   "outputs": [],
   "source": [
    "asia = df[df.continent=='Asia']\n",
    "europe = df[df.continent=='Europe']"
   ]
  },
  {
   "cell_type": "code",
   "execution_count": 10,
   "metadata": {},
   "outputs": [],
   "source": [
    "asia_2007 = asia[asia.year==2007]\n",
    "europe_2007 = europe[europe.year==2007]"
   ]
  },
  {
   "cell_type": "code",
   "execution_count": 46,
   "metadata": {},
   "outputs": [
    {
     "name": "stdout",
     "output_type": "stream",
     "text": [
      "# of countries in Asia 33\n",
      "# of countries in Europe 30\n",
      "Asia Per Capita mean : 12473.02687013333\n",
      "Asia Per Capita median : 4471.061906\n",
      "Asia Per Capita std deviation : 14154.937342880465\n",
      "Europe Per Capita mean : 25054.481635933327\n",
      "Europe Per Capita median : 28054.06579\n",
      "Europe Per Capita std deviation : 11800.339810888065\n"
     ]
    }
   ],
   "source": [
    "print('# of countries in Asia {}'.format(len(set(asia_2007.country))))\n",
    "print('# of countries in Europe {}'.format(len(set(europe_2007.country))))\n",
    "print('Asia Per Capita mean : {}'.format(asia_2007.gdpPerCapita.mean()))\n",
    "print('Asia Per Capita median : {}'.format(asia_2007.gdpPerCapita.median()))\n",
    "print('Asia Per Capita std deviation : {}'.format(asia_2007.gdpPerCapita.std()))\n",
    "print('Europe Per Capita mean : {}'.format(europe_2007.gdpPerCapita.mean()))\n",
    "print('Europe Per Capita median : {}'.format(europe_2007.gdpPerCapita.median()))\n",
    "print('Europe Per Capita std deviation : {}'.format(europe_2007.gdpPerCapita.std()))"
   ]
  },
  {
   "cell_type": "code",
   "execution_count": 41,
   "metadata": {},
   "outputs": [
    {
     "data": {
      "image/png": "[encoded data removed]",
      "text/plain": [
       "<Figure size 432x288 with 2 Axes>"
      ]
     },
     "metadata": {
      "needs_background": "light"
     },
     "output_type": "display_data"
    }
   ],
   "source": [
    "plt.subplot(2,1,1)\n",
    "plt.title('Distribution of GDP Per Capita')\n",
    "plt.hist(asia_2007.gdpPerCapita, range=(0,50000), bins=20, color='green', edgecolor= 'black')\n",
    "plt.ylabel('Asia')\n",
    "plt.subplot(2,1,2)\n",
    "plt.hist(europe_2007.gdpPerCapita, range=(0,50000), bins=20, color='blue', edgecolor= 'black')\n",
    "plt.ylabel('Europe')\n",
    "plt.show()"
   ]
  },
  {
   "cell_type": "code",
   "execution_count": null,
   "metadata": {},
   "outputs": [],
   "source": []
  }
 ],
 "metadata": {
  "kernelspec": {
   "display_name": "Python 3",
   "language": "python",
   "name": "python3"
  },
  "language_info": {
   "codemirror_mode": {
    "name": "ipython",
    "version": 3
   },
   "file_extension": ".py",
   "mimetype": "text/x-python",
   "name": "python",
   "nbconvert_exporter": "python",
   "pygments_lexer": "ipython3",
   "version": "3.7.4"
  }
 },
 "nbformat": 4,
 "nbformat_minor": 2
}
