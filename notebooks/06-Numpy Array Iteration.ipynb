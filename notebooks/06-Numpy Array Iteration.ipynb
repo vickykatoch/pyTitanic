{
 "cells": [
  {
   "cell_type": "code",
   "execution_count": 1,
   "metadata": {},
   "outputs": [],
   "source": [
    "import numpy as np"
   ]
  },
  {
   "cell_type": "code",
   "execution_count": 15,
   "metadata": {},
   "outputs": [
    {
     "name": "stdout",
     "output_type": "stream",
     "text": [
      "1\n",
      "4\n",
      "9\n",
      "16\n",
      "25\n",
      "36\n",
      "49\n",
      "64\n",
      "81\n",
      "100\n",
      "121\n",
      "144\n"
     ]
    }
   ],
   "source": [
    "# Single dimension array iteration\n",
    "arr = np.arange(1,13,dtype='int16')**2\n",
    "for i in arr:\n",
    "    print(i)"
   ]
  },
  {
   "cell_type": "code",
   "execution_count": 40,
   "metadata": {},
   "outputs": [
    {
     "name": "stdout",
     "output_type": "stream",
     "text": [
      "[[  1   4   9  16]\n",
      " [ 25  36  49  64]\n",
      " [ 81 100 121 144]]\n",
      "[ 1  4  9 16]\n",
      "[25 36 49 64]\n",
      "[ 81 100 121 144]\n",
      "1\n",
      "25\n",
      "81\n",
      "4\n",
      "36\n",
      "100\n",
      "9\n",
      "49\n",
      "121\n",
      "16\n",
      "64\n",
      "144\n"
     ]
    }
   ],
   "source": [
    "# Multi Dimension Array Iteration\n",
    "arr = np.arange(1,13,dtype='int16')**2\n",
    "arr=arr.reshape(3,4)\n",
    "print(arr)\n",
    "for i in arr:\n",
    "    print(i)\n",
    "\n",
    "for i in arr.flatten(order='F'):\n",
    "    print(i)"
   ]
  },
  {
   "cell_type": "code",
   "execution_count": 58,
   "metadata": {},
   "outputs": [
    {
     "name": "stdout",
     "output_type": "stream",
     "text": [
      "[ 1 25 81]\n",
      "[  4  36 100]\n",
      "[  9  49 121]\n",
      "[ 16  64 144]\n"
     ]
    }
   ],
   "source": [
    "for i in np.nditer(arr, order='F', flags = ['external_loop']):\n",
    "    print(i)\n",
    "# help(np.nditer)    "
   ]
  }
 ],
 "metadata": {
  "kernelspec": {
   "display_name": "Python 3",
   "language": "python",
   "name": "python3"
  },
  "language_info": {
   "codemirror_mode": {
    "name": "ipython",
    "version": 3
   },
   "file_extension": ".py",
   "mimetype": "text/x-python",
   "name": "python",
   "nbconvert_exporter": "python",
   "pygments_lexer": "ipython3",
   "version": "3.7.4"
  }
 },
 "nbformat": 4,
 "nbformat_minor": 2
}
